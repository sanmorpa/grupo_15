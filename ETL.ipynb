{
 "cells": [
  {
   "cell_type": "markdown",
   "id": "f5e22241",
   "metadata": {
    "id": "f5e22241"
   },
   "source": [
    "# Subida, limpieza y carga a base de datos\n",
    "En este Notebook se encuentra el código que carga los datos en bruto desde un Excel a un Dataframe Pandas. Después limpiamos los datos para finalmente descargarlos en formato .csv y además creamos un Script SQL DDL que al ejecutarlo carga los datos a PostgreSQL."
   ]
  },
  {
   "cell_type": "code",
   "execution_count": 1,
   "id": "dc5552a9",
   "metadata": {
    "executionInfo": {
     "elapsed": 364,
     "status": "ok",
     "timestamp": 1676107898109,
     "user": {
      "displayName": "Sandra Moreno",
      "userId": "02003383060737963122"
     },
     "user_tz": -60
    },
    "id": "dc5552a9"
   },
   "outputs": [],
   "source": [
    "import pandas as pd\n",
    "import numpy as np"
   ]
  },
  {
   "cell_type": "markdown",
   "id": "13f30596",
   "metadata": {
    "id": "13f30596"
   },
   "source": [
    "Aqui tenemos la declaración de las funciones que vamos a usar"
   ]
  },
  {
   "cell_type": "code",
   "execution_count": 2,
   "id": "dfaddfa7",
   "metadata": {
    "executionInfo": {
     "elapsed": 10,
     "status": "ok",
     "timestamp": 1676107898650,
     "user": {
      "displayName": "Sandra Moreno",
      "userId": "02003383060737963122"
     },
     "user_tz": -60
    },
    "id": "dfaddfa7"
   },
   "outputs": [],
   "source": [
    "def separate_commas(dataframe, column):\n",
    "    \"\"\"Recoge en una lista todas las categorias de una columna de un dataframe separada por comas\"\"\"\n",
    "    values = list()\n",
    "    raw = dataframe[column].unique().tolist()\n",
    "    for item in raw:\n",
    "        if type(item) == str:\n",
    "            separated = item.split(\", \")\n",
    "            for i in separated:\n",
    "                if i not in values:\n",
    "                    values.append(i)\n",
    "    return values\n",
    "\n",
    "def string_to_index(dataframe, col, reference, index):\n",
    "    \"\"\"Cambia los valores de una columna por los indices correspondientes de otra\"\"\"\n",
    "    for value in dataframe[col].unique().tolist():\n",
    "        i = reference.loc[reference[col] == value, index].values[0]\n",
    "        dataframe.loc[dataframe[col] == value, col] = i\n",
    "    return dataframe[col]\n",
    "\n",
    "def explode_dataframe(relational, reference, column):\n",
    "    \"\"\"Takes a non-normalized relational dataframe and explodes it so it is in a N:N relational table style\"\"\"\n",
    "    relational[column] = relational[column].apply(lambda x: x.split(', ') if type(x) == str else np.nan)\n",
    "    relational = relational.explode(column).reset_index()\n",
    "    j = 0\n",
    "    for i, row in relational.iterrows():\n",
    "        index = reference.loc[reference[column] == row[column], \"index\"]\n",
    "        relational.at[i, 'index'] = j\n",
    "        j += 1\n",
    "        if not index.empty:\n",
    "            relational.at[i, column] = index.values[0]\n",
    "    return relational"
   ]
  },
  {
   "cell_type": "markdown",
   "id": "f09bb38b",
   "metadata": {
    "id": "f09bb38b"
   },
   "source": [
    "## Carga del fichero"
   ]
  },
  {
   "cell_type": "markdown",
   "id": "62fe3be8",
   "metadata": {
    "id": "62fe3be8"
   },
   "source": [
    "En este paso hacemos la carga del excel con los datos en bruto a un dataframe. Además, filtramos los datos para quedarnos únicamente con los que pertenecen a la comunidad de Madrid y solo con las columnas que vamos a usar"
   ]
  },
  {
   "cell_type": "code",
   "execution_count": 3,
   "id": "c2fe2f51",
   "metadata": {
    "colab": {
     "base_uri": "https://localhost:8080/",
     "height": 415
    },
    "executionInfo": {
     "elapsed": 9,
     "status": "error",
     "timestamp": 1676107898650,
     "user": {
      "displayName": "Sandra Moreno",
      "userId": "02003383060737963122"
     },
     "user_tz": -60
    },
    "id": "c2fe2f51",
    "outputId": "0f037dd4-01fb-402c-cd20-53e7f151839b"
   },
   "outputs": [
    {
     "name": "stderr",
     "output_type": "stream",
     "text": [
      "C:\\Users\\sanmo\\AppData\\Local\\Temp\\ipykernel_12384\\687493240.py:1: FutureWarning: Inferring datetime64[ns] from data containing strings is deprecated and will be removed in a future version. To retain the old behavior explicitly pass Series(data, dtype=datetime64[ns])\n",
      "  raw = pd.read_excel(\"raw_airbnb.xlsx\", header=0) # Carga del excel\n"
     ]
    }
   ],
   "source": [
    "raw = pd.read_excel(\"raw_airbnb.xlsx\", header=0) # Carga del excel\n",
    "raw = raw[raw[\"State\"].str.contains(\"madrid|Madrid\",na=False)]\n",
    "raw = raw[[\"ID\", \"Zipcode\", \"Latitude\", \"Longitude\", \"Accommodates\", \"Bathrooms\", \"Bedrooms\", \"Beds\", \"Price\", \"Security Deposit\", \"Cleaning Fee\", \"Guests Included\", \"Extra People\", \"Minimum Nights\", \"Maximum Nights\", \"Property Type\", \"Room Type\", \"Bed Type\", \"Cancellation Policy\", \"Host ID\", \"Host Since\", \"Host Response Time\", \"Host Response Rate\", \"Host Listings Count\", \"Number of Reviews\", \"First Review\", \"Last Review\", \"Review Scores Rating\", \"Review Scores Accuracy\", \"Review Scores Cleanliness\", \"Review Scores Checkin\", \"Review Scores Communication\", \"Review Scores Location\", \"Review Scores Value\", \"Reviews per Month\", \"Amenities\", \"Features\", \"Neighbourhood Group Cleansed\", \"Neighbourhood Cleansed\"]]"
   ]
  },
  {
   "cell_type": "markdown",
   "id": "67fa33cb",
   "metadata": {
    "id": "67fa33cb"
   },
   "source": [
    "## Corrección del tipo de dato"
   ]
  },
  {
   "cell_type": "markdown",
   "id": "f4126284",
   "metadata": {
    "id": "f4126284"
   },
   "source": [
    "Hacemos la exploración inicial de los tipos de dato, para poder modificarlos si fuese necesario. Podemos ver que muchos de los datos númericos aparecen como float cuando deberian ser integers. Además las fechas aparecen como texto en vez de fechas"
   ]
  },
  {
   "cell_type": "code",
   "execution_count": 4,
   "id": "65966adb",
   "metadata": {
    "executionInfo": {
     "elapsed": 8,
     "status": "aborted",
     "timestamp": 1676107898652,
     "user": {
      "displayName": "Sandra Moreno",
      "userId": "02003383060737963122"
     },
     "user_tz": -60
    },
    "id": "65966adb"
   },
   "outputs": [
    {
     "name": "stdout",
     "output_type": "stream",
     "text": [
      "<class 'pandas.core.frame.DataFrame'>\n",
      "Int64Index: 13208 entries, 0 to 13759\n",
      "Data columns (total 39 columns):\n",
      " #   Column                        Non-Null Count  Dtype         \n",
      "---  ------                        --------------  -----         \n",
      " 0   ID                            13208 non-null  int64         \n",
      " 1   Zipcode                       12766 non-null  object        \n",
      " 2   Latitude                      13208 non-null  float64       \n",
      " 3   Longitude                     13208 non-null  float64       \n",
      " 4   Accommodates                  13208 non-null  int64         \n",
      " 5   Bathrooms                     13159 non-null  float64       \n",
      " 6   Bedrooms                      13185 non-null  float64       \n",
      " 7   Beds                          13159 non-null  float64       \n",
      " 8   Price                         13199 non-null  float64       \n",
      " 9   Security Deposit              5613 non-null   float64       \n",
      " 10  Cleaning Fee                  7809 non-null   float64       \n",
      " 11  Guests Included               13208 non-null  int64         \n",
      " 12  Extra People                  13208 non-null  int64         \n",
      " 13  Minimum Nights                13208 non-null  int64         \n",
      " 14  Maximum Nights                13208 non-null  int64         \n",
      " 15  Property Type                 13208 non-null  object        \n",
      " 16  Room Type                     13208 non-null  object        \n",
      " 17  Bed Type                      13208 non-null  object        \n",
      " 18  Cancellation Policy           13208 non-null  object        \n",
      " 19  Host ID                       13208 non-null  int64         \n",
      " 20  Host Since                    13205 non-null  datetime64[ns]\n",
      " 21  Host Response Time            11553 non-null  object        \n",
      " 22  Host Response Rate            11553 non-null  float64       \n",
      " 23  Host Listings Count           13205 non-null  float64       \n",
      " 24  Number of Reviews             13208 non-null  int64         \n",
      " 25  First Review                  10492 non-null  datetime64[ns]\n",
      " 26  Last Review                   10491 non-null  datetime64[ns]\n",
      " 27  Review Scores Rating          10367 non-null  float64       \n",
      " 28  Review Scores Accuracy        10349 non-null  float64       \n",
      " 29  Review Scores Cleanliness     10355 non-null  float64       \n",
      " 30  Review Scores Checkin         10339 non-null  float64       \n",
      " 31  Review Scores Communication   10355 non-null  float64       \n",
      " 32  Review Scores Location        10337 non-null  float64       \n",
      " 33  Review Scores Value           10337 non-null  float64       \n",
      " 34  Reviews per Month             10492 non-null  float64       \n",
      " 35  Amenities                     13101 non-null  object        \n",
      " 36  Features                      13208 non-null  object        \n",
      " 37  Neighbourhood Group Cleansed  13208 non-null  object        \n",
      " 38  Neighbourhood Cleansed        13208 non-null  object        \n",
      "dtypes: datetime64[ns](3), float64(18), int64(8), object(10)\n",
      "memory usage: 4.0+ MB\n"
     ]
    }
   ],
   "source": [
    "raw.info()"
   ]
  },
  {
   "cell_type": "markdown",
   "id": "a3e0f090",
   "metadata": {
    "id": "a3e0f090"
   },
   "source": [
    "Modificamos los tipos de dato de las columnas que necesitamos."
   ]
  },
  {
   "cell_type": "code",
   "execution_count": 5,
   "id": "2d7406e7",
   "metadata": {
    "executionInfo": {
     "elapsed": 9,
     "status": "aborted",
     "timestamp": 1676107898653,
     "user": {
      "displayName": "Sandra Moreno",
      "userId": "02003383060737963122"
     },
     "user_tz": -60
    },
    "id": "2d7406e7",
    "scrolled": true
   },
   "outputs": [],
   "source": [
    "raw[\"Zipcode\"] = raw[\"Zipcode\"].astype(\"float\").astype('Int64')\n",
    "raw[\"Bedrooms\"] = raw[\"Bedrooms\"].astype('Int64')\n",
    "raw[\"Beds\"] = raw[\"Beds\"].astype('Int64')\n",
    "raw[\"Price\"] = raw[\"Price\"].astype('Int64')\n",
    "raw[\"Security Deposit\"] = raw[\"Security Deposit\"].astype('Int64')\n",
    "raw[\"Cleaning Fee\"] = raw[\"Cleaning Fee\"].astype('Int64')\n",
    "raw[\"Host Response Rate\"] = raw[\"Host Response Rate\"].astype('Int64')\n",
    "raw[\"Host Listings Count\"] = raw[\"Host Listings Count\"].astype('Int64')\n",
    "raw[\"Review Scores Rating\"] = raw[\"Review Scores Rating\"].astype('Int64')\n",
    "raw[\"Review Scores Accuracy\"] = raw[\"Review Scores Accuracy\"].astype('Int64')\n",
    "raw[\"Review Scores Cleanliness\"] = raw[\"Review Scores Cleanliness\"].astype('Int64')\n",
    "raw[\"Review Scores Checkin\"] = raw[\"Review Scores Checkin\"].astype('Int64')\n",
    "raw[\"Review Scores Communication\"] = raw[\"Review Scores Communication\"].astype('Int64')\n",
    "raw[\"Review Scores Location\"] = raw[\"Review Scores Location\"].astype('Int64')\n",
    "raw[\"Review Scores Value\"] = raw[\"Review Scores Value\"].astype('Int64')\n",
    "raw[\"Host Since\"] = pd.to_datetime(raw[\"Host Since\"], format='%y%m%d')\n",
    "raw[\"Host Since\"] = pd.to_datetime(raw[\"Host Since\"], format='%y%m%d')\n",
    "raw[\"First Review\"] = pd.to_datetime(raw[\"First Review\"], format='%y%m%d')\n",
    "raw[\"Last Review\"] = pd.to_datetime(raw[\"Last Review\"], format='%y%m%d')"
   ]
  },
  {
   "cell_type": "markdown",
   "id": "3dda4668",
   "metadata": {
    "id": "3dda4668"
   },
   "source": [
    "## Limpieza de datos\n",
    "Ahora vamos a limpiar algunos datos que están sucios, antes de dividirlos en las tablas necesarias."
   ]
  },
  {
   "cell_type": "markdown",
   "id": "5d550c08",
   "metadata": {
    "id": "5d550c08"
   },
   "source": [
    "Podemos ver que algunos Zipcodes están mal, ya que en España los Zipcodes tienen 5 cifras. Vamos a eliminar aquellos que no tengan el formato correcto"
   ]
  },
  {
   "cell_type": "code",
   "execution_count": 6,
   "id": "e4947e7d",
   "metadata": {
    "executionInfo": {
     "elapsed": 10,
     "status": "aborted",
     "timestamp": 1676107898654,
     "user": {
      "displayName": "Sandra Moreno",
      "userId": "02003383060737963122"
     },
     "user_tz": -60
    },
    "id": "e4947e7d"
   },
   "outputs": [
    {
     "name": "stdout",
     "output_type": "stream",
     "text": [
      "<IntegerArray>\n",
      "[  <NA>,  28045,  28005,  28012,  28019,  28047,  28004,  28007,  28014,\n",
      "  28042,  28055,  28025,  28044,  28054,  28026,  28013,  28033,  28008,\n",
      "  28018,  28015,  28011, 280013,  27013,  28001,  25008,  20013,  28034,\n",
      "  28016,  28056,   2015,  27004,   2805,  28094,   2804,  28003,  28010,\n",
      "  28036,  28046,  28002,  28006,  28020,  28105,   2815,  28039,  28043,\n",
      "  28027,  28017,  28850,     28,  28049,  28290,  28035,  28029,  28730,\n",
      "  28050,  28024,  28660,  28023,  28040,  28224,  28030,  28053,  28038,\n",
      "  28031,  28058,  28048,  28028,  28009,  28037,  28032,  28022,  28060,\n",
      "  20126,  28041,  28052,  28830,  28051,  28021]\n",
      "Length: 78, dtype: Int64\n"
     ]
    }
   ],
   "source": [
    "print(raw[\"Zipcode\"].unique())\n",
    "for i, row in raw.iterrows():\n",
    "    if raw.at[i, 'Zipcode'] is not pd.NA and raw.at[i, 'Zipcode'] < 10000:\n",
    "         raw.at[i, \"Zipcode\"] = np.nan"
   ]
  },
  {
   "cell_type": "markdown",
   "id": "e11a166a",
   "metadata": {
    "id": "e11a166a"
   },
   "source": [
    "Por otra parte, vamos a ver la cantidad de nulos que existen en este dataset analizando el porcentaje de cada columna con nulos para después aplicar distintas tecnicas para limpiarlos."
   ]
  },
  {
   "cell_type": "code",
   "execution_count": 7,
   "id": "a8da2e0e",
   "metadata": {
    "executionInfo": {
     "elapsed": 1254,
     "status": "aborted",
     "timestamp": 1676107898655,
     "user": {
      "displayName": "Sandra Moreno",
      "userId": "02003383060737963122"
     },
     "user_tz": -60
    },
    "id": "a8da2e0e"
   },
   "outputs": [
    {
     "data": {
      "text/html": [
       "<div>\n",
       "<style scoped>\n",
       "    .dataframe tbody tr th:only-of-type {\n",
       "        vertical-align: middle;\n",
       "    }\n",
       "\n",
       "    .dataframe tbody tr th {\n",
       "        vertical-align: top;\n",
       "    }\n",
       "\n",
       "    .dataframe thead th {\n",
       "        text-align: right;\n",
       "    }\n",
       "</style>\n",
       "<table border=\"1\" class=\"dataframe\">\n",
       "  <thead>\n",
       "    <tr style=\"text-align: right;\">\n",
       "      <th></th>\n",
       "      <th># de Nulos</th>\n",
       "      <th>Porcentaje</th>\n",
       "    </tr>\n",
       "  </thead>\n",
       "  <tbody>\n",
       "    <tr>\n",
       "      <th>Security Deposit</th>\n",
       "      <td>7595</td>\n",
       "      <td>0.575030</td>\n",
       "    </tr>\n",
       "    <tr>\n",
       "      <th>Cleaning Fee</th>\n",
       "      <td>5399</td>\n",
       "      <td>0.408767</td>\n",
       "    </tr>\n",
       "    <tr>\n",
       "      <th>Review Scores Value</th>\n",
       "      <td>2871</td>\n",
       "      <td>0.217368</td>\n",
       "    </tr>\n",
       "    <tr>\n",
       "      <th>Review Scores Location</th>\n",
       "      <td>2871</td>\n",
       "      <td>0.217368</td>\n",
       "    </tr>\n",
       "    <tr>\n",
       "      <th>Review Scores Checkin</th>\n",
       "      <td>2869</td>\n",
       "      <td>0.217217</td>\n",
       "    </tr>\n",
       "    <tr>\n",
       "      <th>Review Scores Accuracy</th>\n",
       "      <td>2859</td>\n",
       "      <td>0.216460</td>\n",
       "    </tr>\n",
       "    <tr>\n",
       "      <th>Review Scores Cleanliness</th>\n",
       "      <td>2853</td>\n",
       "      <td>0.216005</td>\n",
       "    </tr>\n",
       "    <tr>\n",
       "      <th>Review Scores Communication</th>\n",
       "      <td>2853</td>\n",
       "      <td>0.216005</td>\n",
       "    </tr>\n",
       "    <tr>\n",
       "      <th>Review Scores Rating</th>\n",
       "      <td>2841</td>\n",
       "      <td>0.215097</td>\n",
       "    </tr>\n",
       "    <tr>\n",
       "      <th>Last Review</th>\n",
       "      <td>2717</td>\n",
       "      <td>0.205709</td>\n",
       "    </tr>\n",
       "    <tr>\n",
       "      <th>Reviews per Month</th>\n",
       "      <td>2716</td>\n",
       "      <td>0.205633</td>\n",
       "    </tr>\n",
       "    <tr>\n",
       "      <th>First Review</th>\n",
       "      <td>2716</td>\n",
       "      <td>0.205633</td>\n",
       "    </tr>\n",
       "    <tr>\n",
       "      <th>Host Response Time</th>\n",
       "      <td>1655</td>\n",
       "      <td>0.125303</td>\n",
       "    </tr>\n",
       "    <tr>\n",
       "      <th>Host Response Rate</th>\n",
       "      <td>1655</td>\n",
       "      <td>0.125303</td>\n",
       "    </tr>\n",
       "    <tr>\n",
       "      <th>Zipcode</th>\n",
       "      <td>447</td>\n",
       "      <td>0.033843</td>\n",
       "    </tr>\n",
       "    <tr>\n",
       "      <th>Amenities</th>\n",
       "      <td>107</td>\n",
       "      <td>0.008101</td>\n",
       "    </tr>\n",
       "    <tr>\n",
       "      <th>Beds</th>\n",
       "      <td>49</td>\n",
       "      <td>0.003710</td>\n",
       "    </tr>\n",
       "    <tr>\n",
       "      <th>Bathrooms</th>\n",
       "      <td>49</td>\n",
       "      <td>0.003710</td>\n",
       "    </tr>\n",
       "    <tr>\n",
       "      <th>Bedrooms</th>\n",
       "      <td>23</td>\n",
       "      <td>0.001741</td>\n",
       "    </tr>\n",
       "    <tr>\n",
       "      <th>Price</th>\n",
       "      <td>9</td>\n",
       "      <td>0.000681</td>\n",
       "    </tr>\n",
       "  </tbody>\n",
       "</table>\n",
       "</div>"
      ],
      "text/plain": [
       "                             # de Nulos  Porcentaje\n",
       "Security Deposit                   7595    0.575030\n",
       "Cleaning Fee                       5399    0.408767\n",
       "Review Scores Value                2871    0.217368\n",
       "Review Scores Location             2871    0.217368\n",
       "Review Scores Checkin              2869    0.217217\n",
       "Review Scores Accuracy             2859    0.216460\n",
       "Review Scores Cleanliness          2853    0.216005\n",
       "Review Scores Communication        2853    0.216005\n",
       "Review Scores Rating               2841    0.215097\n",
       "Last Review                        2717    0.205709\n",
       "Reviews per Month                  2716    0.205633\n",
       "First Review                       2716    0.205633\n",
       "Host Response Time                 1655    0.125303\n",
       "Host Response Rate                 1655    0.125303\n",
       "Zipcode                             447    0.033843\n",
       "Amenities                           107    0.008101\n",
       "Beds                                 49    0.003710\n",
       "Bathrooms                            49    0.003710\n",
       "Bedrooms                             23    0.001741\n",
       "Price                                 9    0.000681"
      ]
     },
     "execution_count": 7,
     "metadata": {},
     "output_type": "execute_result"
    }
   ],
   "source": [
    "total = raw.isnull().sum().sort_values(ascending=False)\n",
    "porcentaje = (raw.isnull().sum()/raw.isnull().count()).sort_values(ascending=False)\n",
    "nulos = pd.concat([total, porcentaje], axis=1, keys=['# de Nulos', 'Porcentaje'])\n",
    "nulos.head(20)"
   ]
  },
  {
   "cell_type": "markdown",
   "id": "26af41c4",
   "metadata": {
    "id": "26af41c4"
   },
   "source": [
    "- Vemos que la mayoria de los nulos corresponden a Security Deposit y Cleaning Fee, que tienen casi la mitad de los datos como nulos, estos se  pueden poner a 0, como también otras variables numericas\n",
    "\n",
    "- En cuanto a los zipcodes, vamos a intentar rellenarlos con los datos que tenemos, vamos a ordenar el dataset por Neighbourhood y vamos a rellenar los nulos con el dato inmediantemanete posterior de la columna.\n",
    "\n",
    "- Vemos que hay 9 listings sin precio, vamos a eliminar esas filas\n",
    "\n",
    "- Además, para un análisis posterior del precio, vamos a crear una columna nueva que sea el logaritmo del precio."
   ]
  },
  {
   "cell_type": "code",
   "execution_count": 8,
   "id": "5b1a2d9b",
   "metadata": {
    "executionInfo": {
     "elapsed": 1251,
     "status": "aborted",
     "timestamp": 1676107898655,
     "user": {
      "displayName": "Sandra Moreno",
      "userId": "02003383060737963122"
     },
     "user_tz": -60
    },
    "id": "5b1a2d9b"
   },
   "outputs": [],
   "source": [
    "raw.fillna({'Security Deposit': 0, 'Cleaning Fee': 0, 'Bedrooms' : 0, 'Bathrooms': 0, 'Beds': 0, 'Reviews per Month': 0}, inplace=True)\n",
    "raw['Zipcode'] = raw.sort_values('Neighbourhood Cleansed').fillna(method='bfill')['Zipcode']\n",
    "raw = raw.dropna(subset=['Price'])\n",
    "raw['LogPrice'] = np.log(raw['Price'])\n",
    "raw.reset_index(inplace=True)"
   ]
  },
  {
   "cell_type": "markdown",
   "id": "2fa90318",
   "metadata": {
    "id": "2fa90318"
   },
   "source": [
    "## Normalización de las tablas"
   ]
  },
  {
   "cell_type": "markdown",
   "id": "fbffcd21",
   "metadata": {
    "id": "fbffcd21"
   },
   "source": [
    "Creamos sub tablas con los datos necesarios en cada una."
   ]
  },
  {
   "cell_type": "code",
   "execution_count": 9,
   "id": "81761a15",
   "metadata": {
    "executionInfo": {
     "elapsed": 14,
     "status": "aborted",
     "timestamp": 1676107898975,
     "user": {
      "displayName": "Sandra Moreno",
      "userId": "02003383060737963122"
     },
     "user_tz": -60
    },
    "id": "81761a15"
   },
   "outputs": [],
   "source": [
    "listing = raw[[\"ID\", \"Zipcode\", \"Latitude\", \"Longitude\", \"Accommodates\", \"Bathrooms\", \"Bedrooms\", \"Beds\", \"Price\", \"Security Deposit\", \"Cleaning Fee\", \"Guests Included\", \"Extra People\", \"Minimum Nights\", \"Maximum Nights\", \"Property Type\", \"Room Type\", \"Bed Type\", \"Cancellation Policy\", \"Neighbourhood Cleansed\", \"Host ID\"]].copy()\n",
    "host = raw[[\"Host ID\", \"Host Since\", \"Host Response Time\", \"Host Response Rate\", \"Host Listings Count\"]].copy().drop_duplicates(keep='first')\n",
    "host.reset_index(inplace=True)\n",
    "reviews = raw[[\"Number of Reviews\", \"First Review\", \"Last Review\", \"Review Scores Rating\", \"Review Scores Accuracy\", \"Review Scores Cleanliness\", \"Review Scores Checkin\", \"Review Scores Communication\", \"Review Scores Location\", \"Review Scores Value\", \"Reviews per Month\", \"ID\"]].copy().reset_index()"
   ]
  },
  {
   "cell_type": "markdown",
   "id": "6dd47ceb",
   "metadata": {
    "id": "6dd47ceb"
   },
   "source": [
    "Muchas tablas van a ser básicamente \"Look-up-tables\" donde necesitamos guardar solamente un registro de cada valor"
   ]
  },
  {
   "cell_type": "code",
   "execution_count": 10,
   "id": "cd3efcc9",
   "metadata": {
    "executionInfo": {
     "elapsed": 14,
     "status": "aborted",
     "timestamp": 1676107898976,
     "user": {
      "displayName": "Sandra Moreno",
      "userId": "02003383060737963122"
     },
     "user_tz": -60
    },
    "id": "cd3efcc9"
   },
   "outputs": [],
   "source": [
    "amenities = pd.DataFrame(separate_commas(raw, \"Amenities\"), columns = ['Amenities']).reset_index()\n",
    "features = pd.DataFrame(separate_commas(raw, \"Features\"), columns = ['Features']).reset_index()\n",
    "property_type = pd.DataFrame(raw[\"Property Type\"].unique(), columns = ['Property Type']).reset_index()\n",
    "room_type = pd.DataFrame(raw[\"Room Type\"].unique(), columns = ['Room Type']).reset_index()\n",
    "bed_type = pd.DataFrame(raw[\"Bed Type\"].unique(), columns = ['Bed Type']).reset_index()\n",
    "response_time = pd.DataFrame(raw[\"Host Response Time\"].unique(), columns = ['Host Response Time']).reset_index()\n",
    "cancellation_policy = pd.DataFrame(raw[\"Cancellation Policy\"].unique(), columns = ['Cancellation Policy']).reset_index()\n",
    "neighbourhood_group = pd.DataFrame(raw[\"Neighbourhood Group Cleansed\"].unique(), columns = ['Neighbourhood Group Cleansed']).reset_index()"
   ]
  },
  {
   "cell_type": "code",
   "execution_count": 11,
   "id": "f0307a40",
   "metadata": {
    "executionInfo": {
     "elapsed": 15,
     "status": "aborted",
     "timestamp": 1676107898977,
     "user": {
      "displayName": "Sandra Moreno",
      "userId": "02003383060737963122"
     },
     "user_tz": -60
    },
    "id": "f0307a40"
   },
   "outputs": [],
   "source": [
    "neighbourhood = raw[[\"Neighbourhood Cleansed\", \"Neighbourhood Group Cleansed\"]].copy()\n",
    "neighbourhood[\"Neighbourhood Group Cleansed\"] = string_to_index(raw[[\"Neighbourhood Cleansed\", \"Neighbourhood Group Cleansed\"]].copy(), \"Neighbourhood Group Cleansed\", neighbourhood_group, \"index\")\n",
    "neighbourhood = neighbourhood.reset_index()\n",
    "neighbourhood = neighbourhood.drop_duplicates(subset=[\"Neighbourhood Cleansed\", \"Neighbourhood Group Cleansed\"], keep='first')\n",
    "i = 0\n",
    "for j, row in neighbourhood.iterrows():\n",
    "    neighbourhood.at[j, 'index'] = i\n",
    "    i += 1\n",
    "neighbourhood = neighbourhood.reset_index(drop=True)"
   ]
  },
  {
   "cell_type": "code",
   "execution_count": 12,
   "id": "a742f066",
   "metadata": {
    "executionInfo": {
     "elapsed": 14,
     "status": "aborted",
     "timestamp": 1676107898977,
     "user": {
      "displayName": "Sandra Moreno",
      "userId": "02003383060737963122"
     },
     "user_tz": -60
    },
    "id": "a742f066"
   },
   "outputs": [],
   "source": [
    "amenities_listing = raw[[\"ID\", \"Amenities\"]].copy()\n",
    "features_listing = raw[[\"ID\", \"Features\"]].copy()"
   ]
  },
  {
   "cell_type": "markdown",
   "id": "07df403f",
   "metadata": {
    "id": "07df403f"
   },
   "source": [
    "Para normalizar las tablas, reemplazamos aquellos datos que tenemos en otra tabla con sus ID correspondientes (Relaciones 1:N y 1:1)."
   ]
  },
  {
   "cell_type": "code",
   "execution_count": 13,
   "id": "64a0a48b",
   "metadata": {
    "executionInfo": {
     "elapsed": 14,
     "status": "aborted",
     "timestamp": 1676107898978,
     "user": {
      "displayName": "Sandra Moreno",
      "userId": "02003383060737963122"
     },
     "user_tz": -60
    },
    "id": "64a0a48b"
   },
   "outputs": [],
   "source": [
    "listing[\"Property Type\"] = string_to_index(listing, \"Property Type\", property_type, \"index\")\n",
    "listing[\"Room Type\"] = string_to_index(listing, \"Room Type\", room_type, \"index\")\n",
    "listing[\"Bed Type\"] = string_to_index(listing, \"Bed Type\", bed_type, \"index\")\n",
    "listing[\"Cancellation Policy\"] = string_to_index(listing, \"Cancellation Policy\", cancellation_policy, \"index\")\n",
    "listing[\"Neighbourhood Cleansed\"] = string_to_index(listing, \"Neighbourhood Cleansed\", neighbourhood, \"index\")\n",
    "listing[\"Host ID\"] = string_to_index(listing, \"Host ID\", host, \"Host ID\")"
   ]
  },
  {
   "cell_type": "code",
   "execution_count": 14,
   "id": "f49a5923",
   "metadata": {
    "executionInfo": {
     "elapsed": 14,
     "status": "aborted",
     "timestamp": 1676107898978,
     "user": {
      "displayName": "Sandra Moreno",
      "userId": "02003383060737963122"
     },
     "user_tz": -60
    },
    "id": "f49a5923"
   },
   "outputs": [],
   "source": [
    "for i, row in host.iterrows():\n",
    "    index = response_time.loc[response_time[\"Host Response Time\"] == row[\"Host Response Time\"], \"index\"]\n",
    "    if not index.empty:\n",
    "        host.at[i, \"Host Response Time\"] = index.values[0]"
   ]
  },
  {
   "cell_type": "code",
   "execution_count": 15,
   "id": "7d2a749c",
   "metadata": {
    "executionInfo": {
     "elapsed": 14,
     "status": "aborted",
     "timestamp": 1676107898978,
     "user": {
      "displayName": "Sandra Moreno",
      "userId": "02003383060737963122"
     },
     "user_tz": -60
    },
    "id": "7d2a749c"
   },
   "outputs": [],
   "source": [
    "listing[\"review_id\"] = np.nan\n",
    "for i, row in listing.iterrows():\n",
    "    j = listing.iloc[i][\"ID\"]\n",
    "    review_id = reviews.loc[reviews[\"ID\"] == j, 'index'].values[0]\n",
    "    listing.at[i, \"review_id\"] = review_id\n",
    "del reviews[\"ID\"]\n",
    "listing[\"review_id\"] = listing[\"review_id\"].astype('Int64')"
   ]
  },
  {
   "cell_type": "markdown",
   "id": "de0f87b1",
   "metadata": {
    "id": "de0f87b1"
   },
   "source": [
    "Finalmente creamos dataframes para las tablas relacionales N:N"
   ]
  },
  {
   "cell_type": "code",
   "execution_count": 16,
   "id": "9f82543b",
   "metadata": {
    "executionInfo": {
     "elapsed": 14,
     "status": "aborted",
     "timestamp": 1676107898979,
     "user": {
      "displayName": "Sandra Moreno",
      "userId": "02003383060737963122"
     },
     "user_tz": -60
    },
    "id": "9f82543b"
   },
   "outputs": [],
   "source": [
    "amenities_listing = explode_dataframe(amenities_listing, amenities, \"Amenities\")\n",
    "features_listing = explode_dataframe(features_listing, features, \"Features\")"
   ]
  },
  {
   "cell_type": "markdown",
   "id": "ac470ba5",
   "metadata": {
    "id": "ac470ba5"
   },
   "source": [
    "Descargamos los datos en CSV, donde cada csv es una de las tablas creadas, y también descargamos la tabla original ya limpia."
   ]
  },
  {
   "cell_type": "code",
   "execution_count": 17,
   "id": "ace320d4",
   "metadata": {
    "executionInfo": {
     "elapsed": 15,
     "status": "aborted",
     "timestamp": 1676107898980,
     "user": {
      "displayName": "Sandra Moreno",
      "userId": "02003383060737963122"
     },
     "user_tz": -60
    },
    "id": "ace320d4"
   },
   "outputs": [],
   "source": [
    "raw.to_csv(\"00_cleaned_airbnb.csv\", index=False, encoding='utf-8')"
   ]
  },
  {
   "cell_type": "code",
   "execution_count": 18,
   "id": "10378c0f",
   "metadata": {
    "executionInfo": {
     "elapsed": 15,
     "status": "aborted",
     "timestamp": 1676107898980,
     "user": {
      "displayName": "Sandra Moreno",
      "userId": "02003383060737963122"
     },
     "user_tz": -60
    },
    "id": "10378c0f"
   },
   "outputs": [],
   "source": [
    "listing.to_csv(\"01_listings.csv\", index=False, encoding='utf-8')\n",
    "host.to_csv(\"02_hosts.csv\", index=False, encoding='utf-8')\n",
    "reviews.to_csv(\"03_reviews.csv\", index=False, encoding='utf-8')\n",
    "amenities.to_csv(\"04_amenities.csv\", index=False, encoding='utf-8')\n",
    "features.to_csv(\"05_features.csv\", index=False, encoding='utf-8')\n",
    "property_type.to_csv(\"06_property_types.csv\", index=False, encoding='utf-8')\n",
    "room_type.to_csv(\"07_room_types.csv\", index=False, encoding='utf-8')\n",
    "bed_type.to_csv(\"08_bed_types.csv\", index=False, encoding='utf-8')\n",
    "response_time.to_csv(\"09_response_times.csv\", index=False, encoding='utf-8')\n",
    "cancellation_policy.to_csv(\"10_cancellation_policies.csv\", index=False, encoding='utf-8')\n",
    "neighbourhood_group.to_csv(\"11_neighbourhood_groups.csv\", index=False, encoding='utf-8')\n",
    "neighbourhood.to_csv(\"12_neighbourhoods.csv\", index=False, encoding='utf-8')\n",
    "amenities_listing.to_csv(\"13_relational_amenities_listing.csv\", index=False, encoding='utf-8')\n",
    "features_listing.to_csv(\"14_relational_features_listing.csv\", index=False, encoding='utf-8')"
   ]
  },
  {
   "cell_type": "code",
   "execution_count": 19,
   "id": "bc7b12ab",
   "metadata": {
    "executionInfo": {
     "elapsed": 15,
     "status": "aborted",
     "timestamp": 1676107898980,
     "user": {
      "displayName": "Sandra Moreno",
      "userId": "02003383060737963122"
     },
     "user_tz": -60
    },
    "id": "bc7b12ab"
   },
   "outputs": [],
   "source": [
    "open(\"data_upload.sql\", \"w\").close()\n",
    "def end_sql_sentence(i, df, script):\n",
    "    if i == len(df.index) - 1:\n",
    "        script.write(\";\\n\\n\")\n",
    "    else:\n",
    "        script.write(\",\\n\")\n",
    "    \n",
    "with open(\"data_upload.sql\", \"a\",encoding='utf-8') as script:\n",
    "    script.write(\"INSERT INTO\\n\\tgrupo_15.neighbourhood_groups(id, neighbourhood_group)\\nVALUES\\n\")\n",
    "    for i, row in neighbourhood_group.iterrows():\n",
    "        script.write(f\"\\t({row['index']}, '{row['Neighbourhood Group Cleansed']}')\")\n",
    "        end_sql_sentence(i, neighbourhood_group, script)\n",
    "\n",
    "    script.write(\"INSERT INTO\\n\\tgrupo_15.neighbourhoods(id, neighbourhood, id_neighbourhood_group)\\nVALUES\\n\")\n",
    "    for i, row in neighbourhood.iterrows():\n",
    "        script.write(f\"\\t({row['index']}, '{row['Neighbourhood Cleansed']}', {row['Neighbourhood Group Cleansed']})\")\n",
    "        end_sql_sentence(i, neighbourhood, script)\n",
    "\n",
    "    script.write(\"INSERT INTO\\n\\tgrupo_15.property_types(id, property_type)\\nVALUES\\n\")\n",
    "    for i, row in property_type.iterrows():\n",
    "        script.write(f\"\\t({row['index']}, '{row['Property Type']}')\")\n",
    "        end_sql_sentence(i, property_type, script)\n",
    "    \n",
    "    script.write(\"INSERT INTO\\n\\tgrupo_15.room_types(id, room_type)\\nVALUES\\n\")\n",
    "    for i, row in room_type.iterrows():\n",
    "        script.write(f\"\\t({row['index']}, '{row['Room Type']}')\")\n",
    "        end_sql_sentence(i, room_type, script)\n",
    "    \n",
    "    script.write(\"INSERT INTO\\n\\tgrupo_15.bed_types(id, bed_type)\\nVALUES\\n\")\n",
    "    for i, row in bed_type.iterrows():\n",
    "        script.write(f\"\\t({row['index']}, '{row['Bed Type']}')\")\n",
    "        end_sql_sentence(i, bed_type, script)\n",
    "    \n",
    "    script.write(\"INSERT INTO\\n\\tgrupo_15.response_times(id, response_time)\\nVALUES\\n\")\n",
    "    for i, row in response_time.iterrows():\n",
    "        script.write(f\"\\t({row['index']}, '{row['Host Response Time']}')\")\n",
    "        end_sql_sentence(i, response_time, script)\n",
    "    \n",
    "    script.write(\"INSERT INTO\\n\\tgrupo_15.hosts(id, since, id_response_time, response_rate, listings_count)\\nVALUES\\n\")\n",
    "    for i, row in host.iterrows():\n",
    "        script.write(f\"\\t({row['Host ID']}, '{row['Host Since']}', {row['Host Response Time']}, {row['Host Response Rate']}, {row['Host Listings Count']})\")\n",
    "        end_sql_sentence(i, host, script)\n",
    "\n",
    "    script.write(\"INSERT INTO\\n\\tgrupo_15.cancellation_policies(id, cancellation_policy)\\nVALUES\\n\")\n",
    "    for i, row in cancellation_policy.iterrows():\n",
    "        script.write(f\"\\t({row['index']}, '{row['Cancellation Policy']}')\")\n",
    "        end_sql_sentence(i, cancellation_policy, script)\n",
    "\n",
    "    script.write(\"INSERT INTO\\n\\tgrupo_15.features(id, feature)\\nVALUES\\n\")\n",
    "    for i, row in features.iterrows():\n",
    "        script.write(f\"\\t({row['index']}, '{row['Features']}')\")\n",
    "        end_sql_sentence(i, features, script)\n",
    "    \n",
    "    script.write(\"INSERT INTO\\n\\tgrupo_15.amenities(id, amenity)\\nVALUES\\n\")\n",
    "    for i, row in amenities.iterrows():\n",
    "        script.write(f\"\\t({row['index']}, '{row['Amenities']}')\")\n",
    "        end_sql_sentence(i, amenities, script)\n",
    "\n",
    "    script.write(\"INSERT INTO\\n\\tgrupo_15.reviews(id, number_reviews, first_review, last_review, scores_rating, scores_accuracy, scores_cleanliness, scores_checkin, scores_communication, scores_location, scores_value, reviews_per_month)\\nVALUES\\n\")\n",
    "    for i, row in reviews.iterrows():\n",
    "        script.write(f\"\\t({row['index']}, {row['Number of Reviews']}, '{row['First Review']}', '{row['Last Review']}', {row['Review Scores Rating']}, {row['Review Scores Accuracy']}, {row['Review Scores Cleanliness']}, {row['Review Scores Checkin']}, {row['Review Scores Communication']}, {row['Review Scores Location']}, {row['Review Scores Value']}, {row['Reviews per Month']})\")\n",
    "        end_sql_sentence(i, reviews, script)\n",
    "\n",
    "    script.write(\"INSERT INTO\\n\\tgrupo_15.listings(id, id_host, id_neighbourhood, zipcode, latitude, longitude, id_property_type, id_room_type, id_bed_type, accommodates, bathrooms, bedrooms, beds, price, security_deposit, cleaning_fee, extra_people, minimum_nights, maximum_nights, id_cancellation_policy, id_review)\\nVALUES\\n\")\n",
    "    for i, row in listing.iterrows():\n",
    "        script.write(f\"\\t({row['ID']},  {row['Host ID']}, {row['Neighbourhood Cleansed']}, {row['Zipcode']}, {row['Latitude']}, {row['Longitude']}, {row['Property Type']}, {row['Room Type']}, {row['Bed Type']}, {row['Accommodates']}, {row['Bathrooms']}, {row['Bedrooms']}, {row['Beds']}, {row['Price']}, {row['Security Deposit']}, {row['Cleaning Fee']}, {row['Extra People']}, {row['Minimum Nights']}, {row['Maximum Nights']}, {row['Cancellation Policy']}, {row['review_id']})\")\n",
    "        end_sql_sentence(i, listing, script)\n",
    "\n",
    "    script.write(\"INSERT INTO\\n\\tgrupo_15.rel_amenities_listings(id, id_amenity, id_listing)\\nVALUES\\n\")\n",
    "    for i, row in amenities_listing.iterrows():\n",
    "        script.write(f\"\\t({row['index']}, {row['Amenities']}, {row['ID']})\")\n",
    "        end_sql_sentence(i, amenities_listing, script)\n",
    "        \n",
    "    script.write(\"INSERT INTO\\n\\tgrupo_15.rel_features_listings(id, id_feature, id_listing)\\nVALUES\\n\")\n",
    "    for i, row in features_listing.iterrows():\n",
    "        script.write(f\"\\t({row['index']}, {row['Features']}, {row['ID']})\")\n",
    "        end_sql_sentence(i, features_listing, script)\n",
    "with open(\"data_upload.sql\", \"r\") as file:\n",
    "    filedata = file.read()\n",
    "    filedata = filedata.replace(\"<NA>\", \"NULL\").replace(\"nan\", \"NULL\").replace(\"NaT\", \"NULL\").replace(\"'NULL'\", \"NULL\").replace(\"00:00:00\", \"\")\n",
    "with open(\"data_upload.sql\", 'w') as file:\n",
    "    file.write(filedata)"
   ]
  }
 ],
 "metadata": {
  "colab": {
   "provenance": []
  },
  "kernelspec": {
   "display_name": "Python 3 (ipykernel)",
   "language": "python",
   "name": "python3"
  },
  "language_info": {
   "codemirror_mode": {
    "name": "ipython",
    "version": 3
   },
   "file_extension": ".py",
   "mimetype": "text/x-python",
   "name": "python",
   "nbconvert_exporter": "python",
   "pygments_lexer": "ipython3",
   "version": "3.9.12"
  }
 },
 "nbformat": 4,
 "nbformat_minor": 5
}
